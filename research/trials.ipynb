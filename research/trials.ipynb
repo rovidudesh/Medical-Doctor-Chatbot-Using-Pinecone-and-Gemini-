{
 "cells": [
  {
   "cell_type": "code",
   "execution_count": null,
   "id": "1ae7bc56",
   "metadata": {},
   "outputs": [],
   "source": []
  }
 ],
 "metadata": {
  "kernelspec": {
   "display_name": "doctorbot",
   "language": "python",
   "name": "python3"
  },
  "language_info": {
   "name": "python",
   "version": "3.13.2"
  }
 },
 "nbformat": 4,
 "nbformat_minor": 5
}
