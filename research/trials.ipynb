{
 "cells": [
  {
   "cell_type": "code",
   "execution_count": 1,
   "id": "1ae7bc56",
   "metadata": {},
   "outputs": [
    {
     "name": "stdout",
     "output_type": "stream",
     "text": [
      "Hello\n"
     ]
    }
   ],
   "source": [
    "print('Hello')"
   ]
  },
  {
   "cell_type": "code",
   "execution_count": 4,
   "id": "47bcfa0b",
   "metadata": {},
   "outputs": [
    {
     "data": {
      "text/plain": [
       "'e:\\\\GenAi\\\\Medical-Doctor-Chatbot-Using-Pinecone-and-Gemini-'"
      ]
     },
     "execution_count": 4,
     "metadata": {},
     "output_type": "execute_result"
    }
   ],
   "source": [
    "%pwd"
   ]
  },
  {
   "cell_type": "code",
   "execution_count": 3,
   "id": "f85a2334",
   "metadata": {},
   "outputs": [],
   "source": [
    "import os\n",
    "os.chdir('../')"
   ]
  },
  {
   "cell_type": "code",
   "execution_count": 5,
   "id": "e77a236c",
   "metadata": {},
   "outputs": [],
   "source": [
    "from langchain.document_loaders import PyPDFLoader , DirectoryLoader\n",
    "from langchain.text_splitter import RecursiveCharacterTextSplitter"
   ]
  },
  {
   "cell_type": "code",
   "execution_count": 6,
   "id": "d98fd7a1",
   "metadata": {},
   "outputs": [],
   "source": [
    "#Exracting Data from the PDF File\n",
    "def load_pdf(file_path):\n",
    "    loader = DirectoryLoader(file_path ,\n",
    "                             glob=\"**/*.pdf\",\n",
    "                             loader_cls=PyPDFLoader)\n",
    "    data = loader.load()\n",
    "    return data"
   ]
  },
  {
   "cell_type": "code",
   "execution_count": 7,
   "id": "31eed8c1",
   "metadata": {},
   "outputs": [],
   "source": [
    "exctracted_data = load_pdf('data/')"
   ]
  },
  {
   "cell_type": "code",
   "execution_count": 10,
   "id": "0ebf3d66",
   "metadata": {},
   "outputs": [],
   "source": [
    "#exctracted_data \n"
   ]
  },
  {
   "cell_type": "code",
   "execution_count": 11,
   "id": "954bd21a",
   "metadata": {},
   "outputs": [],
   "source": [
    "#Extracting into chunks\n",
    "def split_text(data):\n",
    "    text_splitter = RecursiveCharacterTextSplitter(chunk_size=500, chunk_overlap=20)\n",
    "    text_chunks = text_splitter.split_documents(data)\n",
    "    return text_chunks\n"
   ]
  },
  {
   "cell_type": "code",
   "execution_count": 12,
   "id": "8c1247d1",
   "metadata": {},
   "outputs": [
    {
     "name": "stdout",
     "output_type": "stream",
     "text": [
      "Number of chunks: 5860\n"
     ]
    }
   ],
   "source": [
    "text_chunks = split_text(exctracted_data)\n",
    "print(f\"Number of chunks: {len(text_chunks)}\")"
   ]
  },
  {
   "cell_type": "code",
   "execution_count": 19,
   "id": "ab029109",
   "metadata": {},
   "outputs": [],
   "source": [
    "#Dowloading the hugging face embedding model\n",
    "from langchain.embeddings import HuggingFaceEmbeddings\n",
    "\n",
    "\n",
    "def download_huggingface_model():\n",
    "    embeddings = HuggingFaceEmbeddings(model_name=\"sentence-transformers/all-MiniLM-L6-v2\",)\n",
    "    return embeddings\n",
    "\n"
   ]
  },
  {
   "cell_type": "code",
   "execution_count": 20,
   "id": "4b6aade2",
   "metadata": {},
   "outputs": [
    {
     "name": "stdout",
     "output_type": "stream",
     "text": [
      "client=SentenceTransformer(\n",
      "  (0): Transformer({'max_seq_length': 256, 'do_lower_case': False}) with Transformer model: BertModel \n",
      "  (1): Pooling({'word_embedding_dimension': 384, 'pooling_mode_cls_token': False, 'pooling_mode_mean_tokens': True, 'pooling_mode_max_tokens': False, 'pooling_mode_mean_sqrt_len_tokens': False, 'pooling_mode_weightedmean_tokens': False, 'pooling_mode_lasttoken': False, 'include_prompt': True})\n",
      "  (2): Normalize()\n",
      ") model_name='sentence-transformers/all-MiniLM-L6-v2' cache_folder=None model_kwargs={} encode_kwargs={} multi_process=False show_progress=False\n"
     ]
    }
   ],
   "source": [
    "#Dowloading the embedding model\n",
    "embeddings = download_huggingface_model()\n",
    "print(embeddings)"
   ]
  },
  {
   "cell_type": "code",
   "execution_count": 22,
   "id": "46be4423",
   "metadata": {},
   "outputs": [],
   "source": [
    "#pip install ipywidgets\n"
   ]
  },
  {
   "cell_type": "code",
   "execution_count": 36,
   "id": "2e436803",
   "metadata": {},
   "outputs": [],
   "source": [
    "#Initializing the Pinecone vector store\n",
    "from dotenv import load_dotenv\n",
    "from pinecone.grpc import PineconeGRPC as Pinecone\n",
    "import os\n",
    "\n",
    "load_dotenv()\n",
    "PINECONE_API_KEY = os.getenv(\"PINECONE_API_KEY\")\n",
    "GOOGLE_API_KEY = os.getenv(\"GOOGLE_API_KEY\")\n",
    "\n",
    "index_name = \"doctorbot\"\n",
    "\n",
    "pc = Pinecone(PINECONE_API_KEY)\n",
    "index = pc.Index(index_name)"
   ]
  },
  {
   "cell_type": "code",
   "execution_count": 28,
   "id": "9f7dea65",
   "metadata": {},
   "outputs": [],
   "source": [
    "#function to store the vector embedding\n",
    "from langchain_pinecone import PineconeVectorStore\n",
    "\n",
    "docsearch = PineconeVectorStore.from_documents(\n",
    "    documents=text_chunks,\n",
    "    embedding=embeddings,\n",
    "    index_name=index_name,\n",
    ")"
   ]
  },
  {
   "cell_type": "code",
   "execution_count": null,
   "id": "351787ac",
   "metadata": {},
   "outputs": [],
   "source": [
    "#getting the embeedding from an existing index\n",
    "\n",
    "docsearch = PineconeVectorStore.from_existing_index(\n",
    "    embedding=embeddings,\n",
    "    index_name=index_name,\n",
    ")"
   ]
  },
  {
   "cell_type": "code",
   "execution_count": 31,
   "id": "d6894ac3",
   "metadata": {},
   "outputs": [],
   "source": [
    "#initliazing the retriever\n",
    "\n",
    "retriever = docsearch.as_retriever(search_type='similarity',search_kwargs={\"k\": 3})"
   ]
  },
  {
   "cell_type": "code",
   "execution_count": 32,
   "id": "85f9b790",
   "metadata": {},
   "outputs": [],
   "source": [
    "test_retriver = retriever.invoke(\"What is cancer?\")"
   ]
  },
  {
   "cell_type": "code",
   "execution_count": 34,
   "id": "0fe781a5",
   "metadata": {},
   "outputs": [
    {
     "data": {
      "text/plain": [
       "[Document(id='23ac73f2-4070-40f9-bafc-22a96ee95de7', metadata={'creationdate': '2004-12-18T17:00:02-05:00', 'creator': 'PyPDF', 'moddate': '2004-12-18T16:15:31-06:00', 'page': 184.0, 'page_label': '185', 'producer': 'PDFlib+PDI 5.0.0 (SunOS)', 'source': 'data\\\\Medical_book.pdf', 'total_pages': 637.0}, page_content='KEY TERMS\\nBiopsy—A procedure in which a small piece of\\nbody tissue is removed and examined under a\\nmicroscope for cancer.\\nChemotherapy —A cancer treatment in which\\ndrugs delivered into the blood stream kill cancer\\ncells or make them more vulnerable to radiation\\ntherapy.\\nHuman papillomavirus (HPV)—A virus with many\\nsubtypes, some of which cause cell changes that\\nincrease the risk of certain cancers.\\nHuman immunodeficiency virus (HIV)—The virus\\nthat causes acquired immune deficiency syn-'),\n",
       " Document(id='141b6c16-7cf8-4c94-abe2-393338a23d34', metadata={'creationdate': '2004-12-18T17:00:02-05:00', 'creator': 'PyPDF', 'moddate': '2004-12-18T16:15:31-06:00', 'page': 590.0, 'page_label': '591', 'producer': 'PDFlib+PDI 5.0.0 (SunOS)', 'source': 'data\\\\Medical_book.pdf', 'total_pages': 637.0}, page_content='National Cancer Institute. Building 31, Room 10A31, 31 Cen-\\nter Drive, MSC 2580, Bethesda, MD 20892-2580. (800)\\n422-6237. <http://www.nci.nih.gov>.\\nEllen S. Weber, MSN\\nBreast cancer\\nDefinition\\nBreast cancer is caused by the development of\\nmalignant cells in the breast. The malignant cells origi-\\nnate in the lining of the milk glands or ducts of the breast\\n(ductal epithelium), defining this malignancy as a cancer.\\nCancer cells are characterized by uncontrolled division'),\n",
       " Document(id='ae9c93e9-d560-4dcf-8fdb-f5edc0c40487', metadata={'creationdate': '2004-12-18T17:00:02-05:00', 'creator': 'PyPDF', 'moddate': '2004-12-18T16:15:31-06:00', 'page': 47.0, 'page_label': '48', 'producer': 'PDFlib+PDI 5.0.0 (SunOS)', 'source': 'data\\\\Medical_book.pdf', 'total_pages': 637.0}, page_content='KEY TERMS\\nAdenoma —A type of noncancerous (benign)\\ntumor that often involves the overgrowth of certain\\ncells found in glands.\\nGland—A collection of cells that releases certain\\nchemicals, or hormones, that are important to the\\nfunctioning of other organs or body systems.\\nHormone —A chemical produced in one part of\\nthe body that travels to another part of the body in\\norder to exert an effect.\\nHypothalamus —A structure within the brain\\nresponsible for a large number of normal functions')]"
      ]
     },
     "execution_count": 34,
     "metadata": {},
     "output_type": "execute_result"
    }
   ],
   "source": [
    "test_retriver \n"
   ]
  },
  {
   "cell_type": "code",
   "execution_count": 37,
   "id": "c6defedd",
   "metadata": {},
   "outputs": [],
   "source": [
    "#iinitializing the LLM model\n",
    "from langchain_google_genai import ChatGoogleGenerativeAI\n",
    "\n",
    "llm = ChatGoogleGenerativeAI(model=\"gemini-2.0-flash\",\n",
    "                            google_api_key=GOOGLE_API_KEY , \n",
    "                            temperature=0.7)\n"
   ]
  },
  {
   "cell_type": "code",
   "execution_count": 38,
   "id": "f1213cc9",
   "metadata": {},
   "outputs": [],
   "source": [
    "from langchain.chains import create_retrieval_chain\n",
    "from langchain.chains.combine_documents import create_stuff_documents_chain\n",
    "from langchain_core.prompts import ChatPromptTemplate\n",
    "\n",
    "system_prompt = (\n",
    "    \"You are an assistant for question-answering tasks. \"\n",
    "    \"Use the following pieces of retrieved context to answer \"\n",
    "    \"the question. If you don't know the answer, say that you \"\n",
    "    \"don't know. Use three sentences maximum and keep the \"\n",
    "    \"answer concise.\"\n",
    "    \"\\n\\n\"\n",
    "    \"{context}\"\n",
    ")\n",
    "\n",
    "\n",
    "prompt = ChatPromptTemplate.from_messages(\n",
    "    [\n",
    "        (\"system\", system_prompt),\n",
    "        (\"human\", \"{input}\"),\n",
    "    ]\n",
    ")"
   ]
  },
  {
   "cell_type": "code",
   "execution_count": 39,
   "id": "42603a7d",
   "metadata": {},
   "outputs": [],
   "source": [
    "question_answer_chain = create_stuff_documents_chain(llm, prompt)\n",
    "rag_chain = create_retrieval_chain(retriever, question_answer_chain)"
   ]
  },
  {
   "cell_type": "code",
   "execution_count": 42,
   "id": "f58f6325",
   "metadata": {},
   "outputs": [
    {
     "name": "stdout",
     "output_type": "stream",
     "text": [
      "Cancer is caused by the development of malignant cells. Cancer cells are characterized by uncontrolled division. In breast cancer, the malignant cells originate in the lining of the milk glands or ducts of the breast.\n"
     ]
    }
   ],
   "source": [
    "response = rag_chain.invoke({\"input\": \"what is cancer?\"})\n",
    "print(response[\"answer\"])"
   ]
  },
  {
   "cell_type": "code",
   "execution_count": null,
   "id": "b178f75e",
   "metadata": {},
   "outputs": [],
   "source": []
  }
 ],
 "metadata": {
  "kernelspec": {
   "display_name": "doctorbot",
   "language": "python",
   "name": "python3"
  },
  "language_info": {
   "codemirror_mode": {
    "name": "ipython",
    "version": 3
   },
   "file_extension": ".py",
   "mimetype": "text/x-python",
   "name": "python",
   "nbconvert_exporter": "python",
   "pygments_lexer": "ipython3",
   "version": "3.13.2"
  }
 },
 "nbformat": 4,
 "nbformat_minor": 5
}
